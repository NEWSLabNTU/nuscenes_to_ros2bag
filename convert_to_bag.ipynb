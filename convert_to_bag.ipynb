{
 "cells": [
  {
   "cell_type": "markdown",
   "metadata": {},
   "source": []
  },
  {
   "cell_type": "code",
   "execution_count": 1,
   "metadata": {},
   "outputs": [],
   "source": [
    "!source /opt/ros/humble/setup.bash"
   ]
  },
  {
   "cell_type": "code",
   "execution_count": 3,
   "metadata": {},
   "outputs": [],
   "source": [
    "from nuscenes.can_bus.can_bus_api import NuScenesCanBus\n",
    "from nuscenes.eval.common.utils import quaternion_yaw\n",
    "from nuscenes.map_expansion.map_api import NuScenesMap\n",
    "from nuscenes.nuscenes import NuScenes\n"
   ]
  },
  {
   "cell_type": "code",
   "execution_count": 4,
   "metadata": {},
   "outputs": [
    {
     "name": "stdout",
     "output_type": "stream",
     "text": [
      "======\n",
      "Loading NuScenes tables for version v1.0-mini...\n",
      "23 category,\n",
      "8 attribute,\n",
      "4 visibility,\n",
      "911 instance,\n",
      "12 sensor,\n",
      "120 calibrated_sensor,\n",
      "31206 ego_pose,\n",
      "8 log,\n",
      "10 scene,\n",
      "404 sample,\n",
      "31206 sample_data,\n",
      "18538 sample_annotation,\n",
      "4 map,\n",
      "Done loading in 1.252 seconds.\n",
      "======\n",
      "Reverse indexing ...\n",
      "Done reverse indexing in 0.1 seconds.\n",
      "======\n"
     ]
    }
   ],
   "source": [
    "nusc = NuScenes(version=\"v1.0-mini\", dataroot=\"./data\", verbose=True)\n",
    "nusc_can = NuScenesCanBus(dataroot=\"./data\")\n"
   ]
  },
  {
   "cell_type": "code",
   "execution_count": 5,
   "metadata": {
    "scrolled": true
   },
   "outputs": [],
   "source": [
    "cur_sample = nusc.get(\"sample\", nusc.scene[0][\"first_sample_token\"])\n"
   ]
  },
  {
   "cell_type": "code",
   "execution_count": 6,
   "metadata": {},
   "outputs": [
    {
     "data": {
      "text/plain": [
       "dict_items([('RADAR_FRONT', '37091c75b9704e0daa829ba56dfa0906'), ('RADAR_FRONT_LEFT', '11946c1461d14016a322916157da3c7d'), ('RADAR_FRONT_RIGHT', '491209956ee3435a9ec173dad3aaf58b'), ('RADAR_BACK_LEFT', '312aa38d0e3e4f01b3124c523e6f9776'), ('RADAR_BACK_RIGHT', '07b30d5eb6104e79be58eadf94382bc1'), ('LIDAR_TOP', '9d9bf11fb0e144c8b446d54a8a00184f'), ('CAM_FRONT', 'e3d495d4ac534d54b321f50006683844'), ('CAM_FRONT_RIGHT', 'aac7867ebf4f446395d29fbd60b63b3b'), ('CAM_BACK_RIGHT', '79dbb4460a6b40f49f9c150cb118247e'), ('CAM_BACK', '03bea5763f0f4722933508d5999c5fd8'), ('CAM_BACK_LEFT', '43893a033f9c46d4a51b5e08a67a1eb7'), ('CAM_FRONT_LEFT', 'fe5422747a7d4268a4b07fc396707b23')])"
      ]
     },
     "execution_count": 6,
     "metadata": {},
     "output_type": "execute_result"
    }
   ],
   "source": [
    "cur_sample[\"data\"].items()"
   ]
  },
  {
   "cell_type": "code",
   "execution_count": 7,
   "metadata": {},
   "outputs": [],
   "source": [
    "sample_data = nusc.get(\"sample_data\", '9d9bf11fb0e144c8b446d54a8a00184f')"
   ]
  },
  {
   "cell_type": "code",
   "execution_count": 10,
   "metadata": {},
   "outputs": [
    {
     "data": {
      "text/plain": [
       "{'token': '9d9bf11fb0e144c8b446d54a8a00184f',\n",
       " 'timestamp': 1532402927647951,\n",
       " 'rotation': [0.5720320396729045,\n",
       "  -0.0016977771610471074,\n",
       "  0.011798001930183783,\n",
       "  -0.8201446642457809],\n",
       " 'translation': [411.3039349319818, 1180.8903791765097, 0.0]}"
      ]
     },
     "execution_count": 10,
     "metadata": {},
     "output_type": "execute_result"
    }
   ],
   "source": [
    "sample_lidar = nusc.get(\"sample_data\", cur_sample[\"data\"][\"LIDAR_TOP\"])\n",
    "nusc.get(\"ego_pose\", sample_lidar[\"ego_pose_token\"])"
   ]
  },
  {
   "cell_type": "code",
   "execution_count": null,
   "metadata": {},
   "outputs": [],
   "source": []
  }
 ],
 "metadata": {
  "kernelspec": {
   "display_name": "Python 3 (ipykernel)",
   "language": "python",
   "name": "python3"
  },
  "language_info": {
   "codemirror_mode": {
    "name": "ipython",
    "version": 3
   },
   "file_extension": ".py",
   "mimetype": "text/x-python",
   "name": "python",
   "nbconvert_exporter": "python",
   "pygments_lexer": "ipython3",
   "version": "3.10.6"
  }
 },
 "nbformat": 4,
 "nbformat_minor": 2
}
