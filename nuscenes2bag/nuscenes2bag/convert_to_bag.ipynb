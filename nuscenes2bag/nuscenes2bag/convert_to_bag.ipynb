{
 "cells": [
  {
   "cell_type": "markdown",
   "metadata": {},
   "source": []
  },
  {
   "cell_type": "code",
   "execution_count": 1,
   "metadata": {},
   "outputs": [
    {
     "name": "stdout",
     "output_type": "stream",
     "text": [
      "/bin/bash: line 1: install/local_setup.bash: No such file or directory\r\n"
     ]
    }
   ],
   "source": [
    "!source /opt/ros/humble/setup.bash\n",
    "!cd /work\n",
    "!source install/local_setup.bash"
   ]
  },
  {
   "cell_type": "code",
   "execution_count": 2,
   "metadata": {},
   "outputs": [],
   "source": [
    "from nuscenes.can_bus.can_bus_api import NuScenesCanBus\n",
    "from nuscenes.eval.common.utils import quaternion_yaw\n",
    "from nuscenes.map_expansion.map_api import NuScenesMap\n",
    "from nuscenes.nuscenes import NuScenes"
   ]
  },
  {
   "cell_type": "code",
   "execution_count": 3,
   "metadata": {},
   "outputs": [
    {
     "name": "stdout",
     "output_type": "stream",
     "text": [
      "======\n",
      "Loading NuScenes tables for version v1.0-mini...\n",
      "23 category,\n",
      "8 attribute,\n",
      "4 visibility,\n",
      "911 instance,\n",
      "12 sensor,\n",
      "120 calibrated_sensor,\n",
      "31206 ego_pose,\n",
      "8 log,\n",
      "10 scene,\n",
      "404 sample,\n",
      "31206 sample_data,\n",
      "18538 sample_annotation,\n",
      "4 map,\n",
      "Done loading in 0.603 seconds.\n",
      "======\n",
      "Reverse indexing ...\n",
      "Done reverse indexing in 0.1 seconds.\n",
      "======\n"
     ]
    }
   ],
   "source": [
    "nusc = NuScenes(version=\"v1.0-mini\", dataroot=\"/work/data\", verbose=True)\n",
    "nusc_can = NuScenesCanBus(dataroot=\"/work/data\")\n"
   ]
  },
  {
   "cell_type": "code",
   "execution_count": 25,
   "metadata": {
    "scrolled": true
   },
   "outputs": [
    {
     "data": {
      "text/plain": [
       "{'token': 'ca9a282c9e77460f8360f564131a8af5',\n",
       " 'timestamp': 1532402927647951,\n",
       " 'prev': '',\n",
       " 'next': '39586f9d59004284a7114a68825e8eec',\n",
       " 'scene_token': 'cc8c0bf57f984915a77078b10eb33198',\n",
       " 'data': {'RADAR_FRONT': '37091c75b9704e0daa829ba56dfa0906',\n",
       "  'RADAR_FRONT_LEFT': '11946c1461d14016a322916157da3c7d',\n",
       "  'RADAR_FRONT_RIGHT': '491209956ee3435a9ec173dad3aaf58b',\n",
       "  'RADAR_BACK_LEFT': '312aa38d0e3e4f01b3124c523e6f9776',\n",
       "  'RADAR_BACK_RIGHT': '07b30d5eb6104e79be58eadf94382bc1',\n",
       "  'LIDAR_TOP': '9d9bf11fb0e144c8b446d54a8a00184f',\n",
       "  'CAM_FRONT': 'e3d495d4ac534d54b321f50006683844',\n",
       "  'CAM_FRONT_RIGHT': 'aac7867ebf4f446395d29fbd60b63b3b',\n",
       "  'CAM_BACK_RIGHT': '79dbb4460a6b40f49f9c150cb118247e',\n",
       "  'CAM_BACK': '03bea5763f0f4722933508d5999c5fd8',\n",
       "  'CAM_BACK_LEFT': '43893a033f9c46d4a51b5e08a67a1eb7',\n",
       "  'CAM_FRONT_LEFT': 'fe5422747a7d4268a4b07fc396707b23'},\n",
       " 'anns': ['ef63a697930c4b20a6b9791f423351da',\n",
       "  '6b89da9bf1f84fd6a5fbe1c3b236f809',\n",
       "  '924ee6ac1fed440a9d9e3720aac635a0',\n",
       "  '91e3608f55174a319246f361690906ba',\n",
       "  'cd051723ed9c40f692b9266359f547af',\n",
       "  '36d52dfedd764b27863375543c965376',\n",
       "  '70af124fceeb433ea73a79537e4bea9e',\n",
       "  '63b89fe17f3e41ecbe28337e0e35db8e',\n",
       "  'e4a3582721c34f528e3367f0bda9485d',\n",
       "  'fcb2332977ed4203aa4b7e04a538e309',\n",
       "  'a0cac1c12246451684116067ae2611f6',\n",
       "  '02248ff567e3497c957c369dc9a1bd5c',\n",
       "  '9db977e264964c2887db1e37113cddaa',\n",
       "  'ca9c5dd6cf374aa980fdd81022f016fd',\n",
       "  '179b8b54ee74425893387ebc09ee133d',\n",
       "  '5b990ac640bf498ca7fd55eaf85d3e12',\n",
       "  '16140fbf143d4e26a4a7613cbd3aa0e8',\n",
       "  '54939f11a73d4398b14aeef500bf0c23',\n",
       "  '83d881a6b3d94ef3a3bc3b585cc514f8',\n",
       "  '74986f1604f047b6925d409915265bf7',\n",
       "  'e86330c5538c4858b8d3ffe874556cc5',\n",
       "  'a7bd5bb89e27455bbb3dba89a576b6a1',\n",
       "  'fbd9d8c939b24f0eb6496243a41e8c41',\n",
       "  '198023a1fb5343a5b6fad033ab8b7057',\n",
       "  'ffeafb90ecd5429cba23d0be9a5b54ee',\n",
       "  'cc636a58e27e446cbdd030c14f3718fd',\n",
       "  '076a7e3ec6244d3b84e7df5ebcbac637',\n",
       "  '0603fbaef1234c6c86424b163d2e3141',\n",
       "  'd76bd5dcc62f4c57b9cece1c7bcfabc5',\n",
       "  '5acb6c71bcd64aa188804411b28c4c8f',\n",
       "  '49b74a5f193c4759b203123b58ca176d',\n",
       "  '77519174b48f4853a895f58bb8f98661',\n",
       "  'c5e9455e98bb42c0af7d1990db1df0c9',\n",
       "  'fcc5b4b5c4724179ab24962a39ca6d65',\n",
       "  '791d1ca7e228433fa50b01778c32449a',\n",
       "  '316d20eb238c43ef9ee195642dd6e3fe',\n",
       "  'cda0a9085607438c9b1ea87f4360dd64',\n",
       "  'e865152aaa194f22b97ad0078c012b21',\n",
       "  '7962506dbc24423aa540a5e4c7083dad',\n",
       "  '29cca6a580924b72a90b9dd6e7710d3e',\n",
       "  'a6f7d4bb60374f868144c5ba4431bf4c',\n",
       "  'f1ae3f713ba946069fa084a6b8626fbf',\n",
       "  'd7af8ede316546f68d4ab4f3dbf03f88',\n",
       "  '91cb8f15ed4444e99470d43515e50c1d',\n",
       "  'bc638d33e89848f58c0b3ccf3900c8bb',\n",
       "  '26fb370c13f844de9d1830f6176ebab6',\n",
       "  '7e66fdf908d84237943c833e6c1b317a',\n",
       "  '67c5dbb3ddcc4aff8ec5140930723c37',\n",
       "  'eaf2532c820740ae905bb7ed78fb1037',\n",
       "  '3e2d17fa9aa5484d9cabc1dfca532193',\n",
       "  'de6bd5ffbed24aa59c8891f8d9c32c44',\n",
       "  '9d51d699f635478fbbcd82a70396dd62',\n",
       "  'b7cbc6d0e80e4dfda7164871ece6cb71',\n",
       "  '563a3f547bd64a2f9969278c5ef447fd',\n",
       "  'df8917888b81424f8c0670939e61d885',\n",
       "  'bb3ef5ced8854640910132b11b597348',\n",
       "  'a522ce1d7f6545d7955779f25d01783b',\n",
       "  '1fafb2468af5481ca9967407af219c32',\n",
       "  '05de82bdb8484623906bb9d97ae87542',\n",
       "  'bfedb0d85e164b7697d1e72dd971fb72',\n",
       "  'ca0f85b4f0d44beb9b7ff87b1ab37ff5',\n",
       "  'bca4bbfdef3d4de980842f28be80b3ca',\n",
       "  'a834fb0389a8453c810c3330e3503e16',\n",
       "  '6c804cb7d78943b195045082c5c2d7fa',\n",
       "  'adf1594def9e4722b952fea33b307937',\n",
       "  '49f76277d07541c5a584aa14c9d28754',\n",
       "  '15a3b4d60b514db5a3468e2aef72a90c',\n",
       "  '18cc2837f2b9457c80af0761a0b83ccc',\n",
       "  '2bfcc693ae9946daba1d9f2724478fd4']}"
      ]
     },
     "execution_count": 25,
     "metadata": {},
     "output_type": "execute_result"
    }
   ],
   "source": [
    "cur_sample = nusc.get(\"sample\", nusc.scene[0][\"first_sample_token\"])\n",
    "cur_sample\n"
   ]
  },
  {
   "cell_type": "code",
   "execution_count": 5,
   "metadata": {},
   "outputs": [
    {
     "data": {
      "text/plain": [
       "dict_items([('RADAR_FRONT', '37091c75b9704e0daa829ba56dfa0906'), ('RADAR_FRONT_LEFT', '11946c1461d14016a322916157da3c7d'), ('RADAR_FRONT_RIGHT', '491209956ee3435a9ec173dad3aaf58b'), ('RADAR_BACK_LEFT', '312aa38d0e3e4f01b3124c523e6f9776'), ('RADAR_BACK_RIGHT', '07b30d5eb6104e79be58eadf94382bc1'), ('LIDAR_TOP', '9d9bf11fb0e144c8b446d54a8a00184f'), ('CAM_FRONT', 'e3d495d4ac534d54b321f50006683844'), ('CAM_FRONT_RIGHT', 'aac7867ebf4f446395d29fbd60b63b3b'), ('CAM_BACK_RIGHT', '79dbb4460a6b40f49f9c150cb118247e'), ('CAM_BACK', '03bea5763f0f4722933508d5999c5fd8'), ('CAM_BACK_LEFT', '43893a033f9c46d4a51b5e08a67a1eb7'), ('CAM_FRONT_LEFT', 'fe5422747a7d4268a4b07fc396707b23')])"
      ]
     },
     "execution_count": 5,
     "metadata": {},
     "output_type": "execute_result"
    }
   ],
   "source": [
    "cur_sample[\"data\"].items()"
   ]
  },
  {
   "cell_type": "code",
   "execution_count": 6,
   "metadata": {},
   "outputs": [],
   "source": [
    "sample_data = nusc.get(\"sample_data\", '9d9bf11fb0e144c8b446d54a8a00184f')"
   ]
  },
  {
   "cell_type": "code",
   "execution_count": 26,
   "metadata": {},
   "outputs": [
    {
     "data": {
      "text/plain": [
       "{'token': '9d9bf11fb0e144c8b446d54a8a00184f',\n",
       " 'sample_token': 'ca9a282c9e77460f8360f564131a8af5',\n",
       " 'ego_pose_token': '9d9bf11fb0e144c8b446d54a8a00184f',\n",
       " 'calibrated_sensor_token': 'a183049901c24361a6b0b11b8013137c',\n",
       " 'timestamp': 1532402927647951,\n",
       " 'fileformat': 'pcd',\n",
       " 'is_key_frame': True,\n",
       " 'height': 0,\n",
       " 'width': 0,\n",
       " 'filename': 'samples/LIDAR_TOP/n015-2018-07-24-11-22-45+0800__LIDAR_TOP__1532402927647951.pcd.bin',\n",
       " 'prev': '',\n",
       " 'next': '0cedf1d2d652468d92d23491136b5d15',\n",
       " 'sensor_modality': 'lidar',\n",
       " 'channel': 'LIDAR_TOP'}"
      ]
     },
     "execution_count": 26,
     "metadata": {},
     "output_type": "execute_result"
    }
   ],
   "source": [
    "sample_data"
   ]
  },
  {
   "cell_type": "code",
   "execution_count": 8,
   "metadata": {},
   "outputs": [
    {
     "data": {
      "text/plain": [
       "('/work/data/samples/LIDAR_TOP/n015-2018-07-24-11-22-45+0800__LIDAR_TOP__1532402927647951.pcd.bin',\n",
       " [label: nan, score: nan, xyz: [18.41, 59.52, 0.77], wlh: [0.62, 0.67, 1.64], rot axis: [0.01, -0.02, 1.00], ang(degrees): 179.02, ang(rad): 3.12, vel: nan, nan, nan, name: human.pedestrian.adult, token: ef63a697930c4b20a6b9791f423351da,\n",
       "  label: nan, score: nan, xyz: [21.00, 36.06, -0.03], wlh: [0.78, 0.77, 1.71], rot axis: [-0.03, 0.01, -1.00], ang(degrees): -87.24, ang(rad): -1.52, vel: nan, nan, nan, name: human.pedestrian.adult, token: 6b89da9bf1f84fd6a5fbe1c3b236f809,\n",
       "  label: nan, score: nan, xyz: [37.35, 64.40, 0.45], wlh: [2.01, 4.63, 1.57], rot axis: [0.01, -0.02, 1.00], ang(degrees): 176.99, ang(rad): 3.09, vel: nan, nan, nan, name: vehicle.car, token: 924ee6ac1fed440a9d9e3720aac635a0,\n",
       "  label: nan, score: nan, xyz: [25.37, 32.17, -0.16], wlh: [0.75, 0.82, 1.64], rot axis: [-0.01, -0.02, 1.00], ang(degrees): -95.14, ang(rad): -1.66, vel: nan, nan, nan, name: human.pedestrian.adult, token: 91e3608f55174a319246f361690906ba,\n",
       "  label: nan, score: nan, xyz: [6.63, -15.39, -1.82], wlh: [0.43, 0.36, 0.79], rot axis: [-0.03, 0.01, -1.00], ang(degrees): -84.07, ang(rad): -1.47, vel: nan, nan, nan, name: movable_object.trafficcone, token: cd051723ed9c40f692b9266359f547af,\n",
       "  label: nan, score: nan, xyz: [18.57, 60.82, 0.68], wlh: [0.69, 1.77, 1.71], rot axis: [0.01, -0.02, 1.00], ang(degrees): -171.46, ang(rad): -2.99, vel: nan, nan, nan, name: vehicle.bicycle, token: 36d52dfedd764b27863375543c965376,\n",
       "  label: nan, score: nan, xyz: [20.42, 38.32, 0.03], wlh: [0.66, 0.70, 1.84], rot axis: [-0.03, 0.01, -1.00], ang(degrees): -85.95, ang(rad): -1.50, vel: nan, nan, nan, name: human.pedestrian.adult, token: 70af124fceeb433ea73a79537e4bea9e,\n",
       "  label: nan, score: nan, xyz: [9.15, -19.54, -1.65], wlh: [1.84, 4.32, 1.63], rot axis: [-0.01, -0.02, 1.00], ang(degrees): -97.12, ang(rad): -1.70, vel: nan, nan, nan, name: vehicle.car, token: 63b89fe17f3e41ecbe28337e0e35db8e,\n",
       "  label: nan, score: nan, xyz: [-6.10, 59.36, 0.85], wlh: [0.65, 0.71, 1.61], rot axis: [-0.12, -0.03, -0.99], ang(degrees): -17.77, ang(rad): -0.31, vel: nan, nan, nan, name: human.pedestrian.adult, token: e4a3582721c34f528e3367f0bda9485d,\n",
       "  label: nan, score: nan, xyz: [7.86, 25.56, -0.57], wlh: [1.98, 0.70, 1.15], rot axis: [-0.01, 0.02, -1.00], ang(degrees): -176.11, ang(rad): -3.07, vel: nan, nan, nan, name: movable_object.barrier, token: fcb2332977ed4203aa4b7e04a538e309,\n",
       "  label: nan, score: nan, xyz: [6.01, -9.20, -1.51], wlh: [1.91, 0.56, 1.05], rot axis: [-0.01, 0.02, -1.00], ang(degrees): -176.84, ang(rad): -3.09, vel: nan, nan, nan, name: movable_object.barrier, token: a0cac1c12246451684116067ae2611f6,\n",
       "  label: nan, score: nan, xyz: [-1.35, -14.91, -1.34], wlh: [1.02, 0.92, 1.67], rot axis: [-0.66, -0.30, 0.69], ang(degrees): -3.03, ang(rad): -0.05, vel: nan, nan, nan, name: human.pedestrian.adult, token: 02248ff567e3497c957c369dc9a1bd5c,\n",
       "  label: nan, score: nan, xyz: [-16.07, 7.27, -0.22], wlh: [0.93, 0.89, 1.83], rot axis: [-0.02, 0.01, -1.00], ang(degrees): -93.14, ang(rad): -1.63, vel: nan, nan, nan, name: human.pedestrian.adult, token: 9db977e264964c2887db1e37113cddaa,\n",
       "  label: nan, score: nan, xyz: [39.39, 52.21, 0.21], wlh: [0.80, 0.91, 1.83], rot axis: [0.01, -0.02, 1.00], ang(degrees): 179.06, ang(rad): 3.13, vel: nan, nan, nan, name: human.pedestrian.adult, token: ca9c5dd6cf374aa980fdd81022f016fd,\n",
       "  label: nan, score: nan, xyz: [-21.77, -0.46, -0.41], wlh: [0.87, 0.90, 1.72], rot axis: [-0.90, -0.39, -0.19], ang(degrees): -2.23, ang(rad): -0.04, vel: nan, nan, nan, name: human.pedestrian.adult, token: 179b8b54ee74425893387ebc09ee133d,\n",
       "  label: nan, score: nan, xyz: [7.96, 27.58, -0.50], wlh: [1.96, 0.69, 1.13], rot axis: [-0.01, 0.02, -1.00], ang(degrees): -178.12, ang(rad): -3.11, vel: nan, nan, nan, name: movable_object.barrier, token: 5b990ac640bf498ca7fd55eaf85d3e12,\n",
       "  label: nan, score: nan, xyz: [5.98, 35.01, 0.04], wlh: [1.71, 4.01, 1.63], rot axis: [-0.03, 0.01, -1.00], ang(degrees): -86.09, ang(rad): -1.50, vel: nan, nan, nan, name: vehicle.car, token: 16140fbf143d4e26a4a7613cbd3aa0e8,\n",
       "  label: nan, score: nan, xyz: [19.39, 61.21, 0.66], wlh: [0.79, 0.74, 1.73], rot axis: [0.01, -0.02, 1.00], ang(degrees): -176.99, ang(rad): -3.09, vel: nan, nan, nan, name: human.pedestrian.adult, token: 54939f11a73d4398b14aeef500bf0c23,\n",
       "  label: nan, score: nan, xyz: [-4.50, 15.25, 0.40], wlh: [2.88, 10.20, 3.60], rot axis: [-0.02, 0.01, -1.00], ang(degrees): -91.43, ang(rad): -1.60, vel: nan, nan, nan, name: vehicle.truck, token: 83d881a6b3d94ef3a3bc3b585cc514f8,\n",
       "  label: nan, score: nan, xyz: [-8.27, 77.67, 2.05], wlh: [2.13, 4.96, 2.17], rot axis: [-0.51, -0.24, 0.83], ang(degrees): -3.89, ang(rad): -0.07, vel: nan, nan, nan, name: vehicle.car, token: 74986f1604f047b6925d409915265bf7,\n",
       "  label: nan, score: nan, xyz: [-2.27, 63.35, 1.44], wlh: [0.77, 0.95, 1.83], rot axis: [-0.03, 0.01, -1.00], ang(degrees): -82.25, ang(rad): -1.44, vel: nan, nan, nan, name: human.pedestrian.adult, token: e86330c5538c4858b8d3ffe874556cc5,\n",
       "  label: nan, score: nan, xyz: [9.53, 42.28, 0.01], wlh: [1.97, 0.70, 0.96], rot axis: [-0.01, 0.02, -1.00], ang(degrees): -179.39, ang(rad): -3.13, vel: nan, nan, nan, name: movable_object.barrier, token: a7bd5bb89e27455bbb3dba89a576b6a1,\n",
       "  label: nan, score: nan, xyz: [8.13, 31.54, -0.38], wlh: [2.06, 0.76, 1.10], rot axis: [-0.01, 0.02, -1.00], ang(degrees): -176.12, ang(rad): -3.07, vel: nan, nan, nan, name: movable_object.barrier, token: fbd9d8c939b24f0eb6496243a41e8c41,\n",
       "  label: nan, score: nan, xyz: [8.64, 19.39, -0.86], wlh: [1.99, 0.74, 1.25], rot axis: [-0.01, 0.02, -1.00], ang(degrees): -178.31, ang(rad): -3.11, vel: nan, nan, nan, name: movable_object.barrier, token: 198023a1fb5343a5b6fad033ab8b7057,\n",
       "  label: nan, score: nan, xyz: [6.90, 9.48, -1.12], wlh: [0.48, 0.46, 0.72], rot axis: [0.02, -0.01, 1.00], ang(degrees): 132.81, ang(rad): 2.32, vel: nan, nan, nan, name: movable_object.trafficcone, token: ffeafb90ecd5429cba23d0be9a5b54ee,\n",
       "  label: nan, score: nan, xyz: [7.09, 15.52, -0.85], wlh: [1.97, 0.72, 1.09], rot axis: [-0.01, 0.02, -1.00], ang(degrees): -177.49, ang(rad): -3.10, vel: nan, nan, nan, name: movable_object.barrier, token: cc636a58e27e446cbdd030c14f3718fd,\n",
       "  label: nan, score: nan, xyz: [8.03, -53.82, -1.49], wlh: [2.91, 6.91, 3.56], rot axis: [-0.01, -0.03, 1.00], ang(degrees): -89.55, ang(rad): -1.56, vel: nan, nan, nan, name: vehicle.bus.rigid, token: 076a7e3ec6244d3b84e7df5ebcbac637,\n",
       "  label: nan, score: nan, xyz: [-28.76, -0.98, -0.33], wlh: [0.80, 0.87, 1.78], rot axis: [0.01, -0.02, 1.00], ang(degrees): 179.81, ang(rad): 3.14, vel: nan, nan, nan, name: human.pedestrian.adult, token: 0603fbaef1234c6c86424b163d2e3141,\n",
       "  label: nan, score: nan, xyz: [36.81, -18.31, -1.16], wlh: [0.84, 0.88, 1.75], rot axis: [0.01, -0.01, 1.00], ang(degrees): 140.37, ang(rad): 2.45, vel: nan, nan, nan, name: human.pedestrian.adult, token: d76bd5dcc62f4c57b9cece1c7bcfabc5,\n",
       "  label: nan, score: nan, xyz: [9.56, 44.27, 0.11], wlh: [1.99, 0.73, 0.92], rot axis: [-0.01, 0.02, -1.00], ang(degrees): -178.05, ang(rad): -3.11, vel: nan, nan, nan, name: movable_object.barrier, token: 5acb6c71bcd64aa188804411b28c4c8f,\n",
       "  label: nan, score: nan, xyz: [-4.27, 13.09, 0.99], wlh: [0.71, 0.86, 1.62], rot axis: [-0.02, 0.01, -1.00], ang(degrees): -109.10, ang(rad): -1.90, vel: nan, nan, nan, name: human.pedestrian.adult, token: 49b74a5f193c4759b203123b58ca176d,\n",
       "  label: nan, score: nan, xyz: [20.17, 35.89, -0.05], wlh: [0.73, 0.78, 1.82], rot axis: [-0.03, 0.01, -1.00], ang(degrees): -85.98, ang(rad): -1.50, vel: nan, nan, nan, name: human.pedestrian.adult, token: 77519174b48f4853a895f58bb8f98661,\n",
       "  label: nan, score: nan, xyz: [8.54, 17.31, -0.89], wlh: [2.07, 0.71, 1.09], rot axis: [-0.01, 0.02, -1.00], ang(degrees): -176.31, ang(rad): -3.08, vel: nan, nan, nan, name: movable_object.barrier, token: c5e9455e98bb42c0af7d1990db1df0c9,\n",
       "  label: nan, score: nan, xyz: [20.74, 42.16, 0.11], wlh: [0.73, 0.75, 1.70], rot axis: [-0.03, 0.01, -1.00], ang(degrees): -81.00, ang(rad): -1.41, vel: nan, nan, nan, name: human.pedestrian.adult, token: fcc5b4b5c4724179ab24962a39ca6d65,\n",
       "  label: nan, score: nan, xyz: [-1.65, -15.65, -1.41], wlh: [0.91, 0.87, 1.70], rot axis: [-0.42, -0.21, 0.88], ang(degrees): -4.64, ang(rad): -0.08, vel: nan, nan, nan, name: human.pedestrian.adult, token: 791d1ca7e228433fa50b01778c32449a,\n",
       "  label: nan, score: nan, xyz: [9.20, 35.77, -0.31], wlh: [2.05, 0.69, 1.08], rot axis: [-0.01, 0.02, -1.00], ang(degrees): -179.21, ang(rad): -3.13, vel: nan, nan, nan, name: movable_object.barrier, token: 316d20eb238c43ef9ee195642dd6e3fe,\n",
       "  label: nan, score: nan, xyz: [3.30, 40.34, 0.15], wlh: [1.85, 4.12, 1.53], rot axis: [-0.03, 0.01, -1.00], ang(degrees): -86.14, ang(rad): -1.50, vel: nan, nan, nan, name: vehicle.car, token: cda0a9085607438c9b1ea87f4360dd64,\n",
       "  label: nan, score: nan, xyz: [8.22, 33.60, -0.28], wlh: [1.98, 0.76, 1.14], rot axis: [-0.01, 0.02, -1.00], ang(degrees): -179.12, ang(rad): -3.13, vel: nan, nan, nan, name: movable_object.barrier, token: e865152aaa194f22b97ad0078c012b21,\n",
       "  label: nan, score: nan, xyz: [9.61, 46.29, 0.17], wlh: [1.84, 0.68, 0.89], rot axis: [-0.01, 0.02, -1.00], ang(degrees): -179.05, ang(rad): -3.12, vel: nan, nan, nan, name: movable_object.barrier, token: 7962506dbc24423aa540a5e4c7083dad,\n",
       "  label: nan, score: nan, xyz: [13.76, -9.30, -1.51], wlh: [0.79, 1.00, 1.60], rot axis: [0.01, -0.02, 1.00], ang(degrees): -168.72, ang(rad): -2.94, vel: nan, nan, nan, name: human.pedestrian.adult, token: 29cca6a580924b72a90b9dd6e7710d3e,\n",
       "  label: nan, score: nan, xyz: [29.53, 65.01, 0.58], wlh: [1.94, 4.82, 1.74], rot axis: [0.01, -0.02, 1.00], ang(degrees): 176.99, ang(rad): 3.09, vel: nan, nan, nan, name: vehicle.car, token: a6f7d4bb60374f868144c5ba4431bf4c,\n",
       "  label: nan, score: nan, xyz: [6.99, 11.42, -0.94], wlh: [2.07, 0.63, 1.08], rot axis: [-0.01, 0.02, -1.00], ang(degrees): -179.76, ang(rad): -3.14, vel: nan, nan, nan, name: movable_object.barrier, token: f1ae3f713ba946069fa084a6b8626fbf,\n",
       "  label: nan, score: nan, xyz: [7.73, 23.56, -0.61], wlh: [1.95, 0.65, 1.11], rot axis: [-0.01, 0.02, -1.00], ang(degrees): -175.11, ang(rad): -3.06, vel: nan, nan, nan, name: movable_object.barrier, token: d7af8ede316546f68d4ab4f3dbf03f88,\n",
       "  label: nan, score: nan, xyz: [-12.34, 69.90, 2.59], wlh: [3.02, 3.99, 2.92], rot axis: [-0.51, -0.24, 0.83], ang(degrees): -3.89, ang(rad): -0.07, vel: nan, nan, nan, name: vehicle.construction, token: 91cb8f15ed4444e99470d43515e50c1d,\n",
       "  label: nan, score: nan, xyz: [7.20, 17.52, -0.77], wlh: [1.96, 0.72, 1.10], rot axis: [-0.01, 0.02, -1.00], ang(degrees): -175.79, ang(rad): -3.07, vel: nan, nan, nan, name: movable_object.barrier, token: bc638d33e89848f58c0b3ccf3900c8bb,\n",
       "  label: nan, score: nan, xyz: [37.86, 70.95, 0.69], wlh: [1.97, 4.70, 1.58], rot axis: [0.01, -0.02, 1.00], ang(degrees): 178.36, ang(rad): 3.11, vel: nan, nan, nan, name: vehicle.car, token: 26fb370c13f844de9d1830f6176ebab6,\n",
       "  label: nan, score: nan, xyz: [-0.62, 61.89, 1.16], wlh: [0.76, 0.84, 1.92], rot axis: [-0.03, 0.01, -1.00], ang(degrees): -83.25, ang(rad): -1.45, vel: nan, nan, nan, name: human.pedestrian.adult, token: 7e66fdf908d84237943c833e6c1b317a,\n",
       "  label: nan, score: nan, xyz: [21.66, 41.97, -0.09], wlh: [0.74, 0.77, 1.77], rot axis: [-0.03, 0.01, -1.00], ang(degrees): -81.53, ang(rad): -1.42, vel: nan, nan, nan, name: human.pedestrian.adult, token: 67c5dbb3ddcc4aff8ec5140930723c37,\n",
       "  label: nan, score: nan, xyz: [-1.88, 67.38, 1.51], wlh: [0.69, 0.90, 1.81], rot axis: [-0.03, 0.01, -1.00], ang(degrees): -81.70, ang(rad): -1.43, vel: nan, nan, nan, name: human.pedestrian.adult, token: eaf2532c820740ae905bb7ed78fb1037,\n",
       "  label: nan, score: nan, xyz: [5.91, -10.36, -1.64], wlh: [0.34, 0.33, 0.69], rot axis: [0.01, -0.02, 1.00], ang(degrees): 175.71, ang(rad): 3.07, vel: nan, nan, nan, name: movable_object.trafficcone, token: 3e2d17fa9aa5484d9cabc1dfca532193,\n",
       "  label: nan, score: nan, xyz: [20.74, 37.62, -0.05], wlh: [0.75, 0.81, 1.71], rot axis: [-0.03, 0.01, -1.00], ang(degrees): -82.95, ang(rad): -1.45, vel: nan, nan, nan, name: human.pedestrian.adult, token: de6bd5ffbed24aa59c8891f8d9c32c44,\n",
       "  label: nan, score: nan, xyz: [1.34, 60.48, 0.97], wlh: [0.78, 0.96, 1.76], rot axis: [-0.73, -0.33, 0.60], ang(degrees): -2.73, ang(rad): -0.05, vel: nan, nan, nan, name: human.pedestrian.adult, token: 9d51d699f635478fbbcd82a70396dd62,\n",
       "  label: nan, score: nan, xyz: [6.70, 45.77, 0.65], wlh: [1.79, 4.54, 2.06], rot axis: [-0.03, 0.01, -1.00], ang(degrees): -85.14, ang(rad): -1.49, vel: nan, nan, nan, name: vehicle.truck, token: b7cbc6d0e80e4dfda7164871ece6cb71,\n",
       "  label: nan, score: nan, xyz: [-3.84, -13.62, -1.14], wlh: [0.94, 1.04, 1.94], rot axis: [-0.56, -0.23, -0.80], ang(degrees): -3.64, ang(rad): -0.06, vel: nan, nan, nan, name: human.pedestrian.adult, token: 563a3f547bd64a2f9969278c5ef447fd,\n",
       "  label: nan, score: nan, xyz: [21.05, 62.26, 0.77], wlh: [0.69, 0.72, 1.73], rot axis: [-0.02, 0.01, -1.00], ang(degrees): -94.72, ang(rad): -1.65, vel: nan, nan, nan, name: human.pedestrian.adult, token: df8917888b81424f8c0670939e61d885,\n",
       "  label: nan, score: nan, xyz: [34.59, -31.80, -1.52], wlh: [0.90, 0.96, 1.83], rot axis: [-0.09, -0.02, -1.00], ang(degrees): -24.54, ang(rad): -0.43, vel: nan, nan, nan, name: human.pedestrian.adult, token: bb3ef5ced8854640910132b11b597348,\n",
       "  label: nan, score: nan, xyz: [-1.51, 63.14, 1.28], wlh: [0.73, 0.86, 2.00], rot axis: [-0.03, 0.01, -1.00], ang(degrees): -86.25, ang(rad): -1.51, vel: nan, nan, nan, name: human.pedestrian.adult, token: a522ce1d7f6545d7955779f25d01783b,\n",
       "  label: nan, score: nan, xyz: [30.82, -11.23, -1.08], wlh: [0.77, 0.87, 1.81], rot axis: [-0.05, -0.04, 1.00], ang(degrees): -31.55, ang(rad): -0.55, vel: nan, nan, nan, name: human.pedestrian.adult, token: 1fafb2468af5481ca9967407af219c32,\n",
       "  label: nan, score: nan, xyz: [-2.52, 16.86, -0.47], wlh: [0.63, 0.62, 1.75], rot axis: [0.01, -0.02, 1.00], ang(degrees): -162.57, ang(rad): -2.84, vel: nan, nan, nan, name: human.pedestrian.adult, token: 05de82bdb8484623906bb9d97ae87542,\n",
       "  label: nan, score: nan, xyz: [-2.81, 16.74, -0.69], wlh: [0.60, 0.83, 1.26], rot axis: [-0.02, 0.01, -1.00], ang(degrees): -91.90, ang(rad): -1.60, vel: nan, nan, nan, name: movable_object.pushable_pullable, token: bfedb0d85e164b7697d1e72dd971fb72,\n",
       "  label: nan, score: nan, xyz: [6.62, -9.24, -1.54], wlh: [1.91, 0.58, 1.05], rot axis: [-0.01, 0.02, -1.00], ang(degrees): -176.50, ang(rad): -3.08, vel: nan, nan, nan, name: movable_object.barrier, token: ca0f85b4f0d44beb9b7ff87b1ab37ff5,\n",
       "  label: nan, score: nan, xyz: [9.13, 33.74, -0.38], wlh: [2.04, 0.71, 1.07], rot axis: [-0.01, 0.02, -1.00], ang(degrees): -178.21, ang(rad): -3.11, vel: nan, nan, nan, name: movable_object.barrier, token: bca4bbfdef3d4de980842f28be80b3ca,\n",
       "  label: nan, score: nan, xyz: [-1.82, -13.57, -1.32], wlh: [0.97, 0.94, 1.57], rot axis: [-0.45, -0.18, -0.87], ang(degrees): -4.48, ang(rad): -0.08, vel: nan, nan, nan, name: human.pedestrian.adult, token: a834fb0389a8453c810c3330e3503e16,\n",
       "  label: nan, score: nan, xyz: [8.23, 11.62, -0.99], wlh: [2.13, 0.72, 1.03], rot axis: [-0.01, 0.02, -1.00], ang(degrees): 178.24, ang(rad): 3.11, vel: nan, nan, nan, name: movable_object.barrier, token: 6c804cb7d78943b195045082c5c2d7fa,\n",
       "  label: nan, score: nan, xyz: [7.35, 19.54, -0.72], wlh: [2.04, 0.73, 1.10], rot axis: [-0.01, 0.02, -1.00], ang(degrees): -175.36, ang(rad): -3.06, vel: nan, nan, nan, name: movable_object.barrier, token: adf1594def9e4722b952fea33b307937,\n",
       "  label: nan, score: nan, xyz: [-2.05, 38.03, 0.27], wlh: [1.91, 4.73, 1.96], rot axis: [-0.03, 0.01, -1.00], ang(degrees): -90.59, ang(rad): -1.58, vel: nan, nan, nan, name: vehicle.car, token: 49f76277d07541c5a584aa14c9d28754,\n",
       "  label: nan, score: nan, xyz: [7.52, 21.55, -0.69], wlh: [2.03, 0.68, 1.13], rot axis: [-0.01, 0.02, -1.00], ang(degrees): -174.58, ang(rad): -3.05, vel: nan, nan, nan, name: movable_object.barrier, token: 15a3b4d60b514db5a3468e2aef72a90c,\n",
       "  label: nan, score: nan, xyz: [8.04, 29.55, -0.43], wlh: [1.91, 0.72, 1.11], rot axis: [-0.01, 0.02, -1.00], ang(degrees): -177.12, ang(rad): -3.09, vel: nan, nan, nan, name: movable_object.barrier, token: 18cc2837f2b9457c80af0761a0b83ccc,\n",
       "  label: nan, score: nan, xyz: [7.04, 13.45, -0.93], wlh: [1.99, 0.65, 1.11], rot axis: [-0.01, 0.02, -1.00], ang(degrees): -179.43, ang(rad): -3.13, vel: nan, nan, nan, name: movable_object.barrier, token: 2bfcc693ae9946daba1d9f2724478fd4],\n",
       " None)"
      ]
     },
     "execution_count": 8,
     "metadata": {},
     "output_type": "execute_result"
    }
   ],
   "source": [
    "nusc.get_sample_data(sample_data['token'])"
   ]
  },
  {
   "cell_type": "code",
   "execution_count": 9,
   "metadata": {},
   "outputs": [],
   "source": [
    "sample_camera = nusc.get(\"sample_data\", \"e3d495d4ac534d54b321f50006683844\")\n"
   ]
  },
  {
   "cell_type": "code",
   "execution_count": 19,
   "metadata": {},
   "outputs": [
    {
     "data": {
      "text/plain": [
       "label: nan, score: nan, xyz: [18.64, 0.19, 59.02], wlh: [0.62, 0.67, 1.64], rot axis: [0.02, -0.71, 0.70], ang(degrees): -179.94, ang(rad): -3.14, vel: nan, nan, nan, name: human.pedestrian.adult, token: ef63a697930c4b20a6b9791f423351da"
      ]
     },
     "execution_count": 19,
     "metadata": {},
     "output_type": "execute_result"
    }
   ],
   "source": [
    "_, boxes, camera = nusc.get_sample_data(sample_camera['token'])\n",
    "box = boxes[0]\n",
    "box"
   ]
  },
  {
   "cell_type": "code",
   "execution_count": 11,
   "metadata": {},
   "outputs": [],
   "source": [
    "import numpy as np\n",
    "c = np.array(nusc.explorer.get_color(boxes[0].name))/255.0"
   ]
  },
  {
   "cell_type": "code",
   "execution_count": 12,
   "metadata": {},
   "outputs": [],
   "source": [
    "class Collector:\n",
    "    \"\"\"\n",
    "    Emulates the Matplotlib Axes class to collect line data.\n",
    "    \"\"\"\n",
    "\n",
    "    def __init__(self):\n",
    "        self.points = []\n",
    "        self.colors = []\n",
    "\n",
    "    def plot(self, xx, yy, color, linewidth):\n",
    "        x1, x2 = xx\n",
    "        y1, y2 = yy\n",
    "        self.points.append((x1, y1))\n",
    "        self.points.append((x2, y2))\n",
    "        self.colors.append(color)\n"
   ]
  },
  {
   "cell_type": "code",
   "execution_count": 13,
   "metadata": {},
   "outputs": [],
   "source": [
    "collector = Collector()\n",
    "boxes[0].render(collector, view=camera, normalize=True, colors=(c, c, c))"
   ]
  },
  {
   "cell_type": "code",
   "execution_count": 17,
   "metadata": {},
   "outputs": [
    {
     "data": {
      "text/plain": [
       "26"
      ]
     },
     "execution_count": 17,
     "metadata": {},
     "output_type": "execute_result"
    }
   ],
   "source": [
    "len(collector.points)"
   ]
  },
  {
   "cell_type": "code",
   "execution_count": 18,
   "metadata": {},
   "outputs": [
    {
     "data": {
      "text/plain": [
       "13"
      ]
     },
     "execution_count": 18,
     "metadata": {},
     "output_type": "execute_result"
    }
   ],
   "source": [
    "len(collector.colors)"
   ]
  },
  {
   "cell_type": "code",
   "execution_count": 21,
   "metadata": {},
   "outputs": [
    {
     "data": {
      "text/plain": [
       "{'token': 'ef63a697930c4b20a6b9791f423351da',\n",
       " 'sample_token': 'ca9a282c9e77460f8360f564131a8af5',\n",
       " 'instance_token': '6dd2cbf4c24b4caeb625035869bca7b5',\n",
       " 'visibility_token': '1',\n",
       " 'attribute_tokens': ['4d8821270b4a47e3a8a300cbec48188e'],\n",
       " 'translation': [373.256, 1130.419, 0.8],\n",
       " 'size': [0.621, 0.669, 1.642],\n",
       " 'rotation': [0.9831098797903927, 0.0, 0.0, -0.18301629506281616],\n",
       " 'prev': '',\n",
       " 'next': '7987617983634b119e383d8a29607fd7',\n",
       " 'num_lidar_pts': 1,\n",
       " 'num_radar_pts': 0,\n",
       " 'category_name': 'human.pedestrian.adult'}"
      ]
     },
     "execution_count": 21,
     "metadata": {},
     "output_type": "execute_result"
    }
   ],
   "source": [
    "annotations = cur_sample['anns']\n",
    "ann = nusc.get('sample_annotation', annotations[0])\n",
    "ann"
   ]
  },
  {
   "cell_type": "code",
   "execution_count": 23,
   "metadata": {},
   "outputs": [
    {
     "data": {
      "text/plain": [
       "{'token': '4d8821270b4a47e3a8a300cbec48188e',\n",
       " 'name': 'pedestrian.standing',\n",
       " 'description': 'The human is standing.'}"
      ]
     },
     "execution_count": 23,
     "metadata": {},
     "output_type": "execute_result"
    }
   ],
   "source": [
    "nusc.get('attribute', ann['attribute_tokens'][0])"
   ]
  },
  {
   "cell_type": "code",
   "execution_count": 24,
   "metadata": {},
   "outputs": [
    {
     "data": {
      "text/plain": [
       "{'token': '6dd2cbf4c24b4caeb625035869bca7b5',\n",
       " 'category_token': '1fa93b757fc74fb197cdd60001ad8abf',\n",
       " 'nbr_annotations': 39,\n",
       " 'first_annotation_token': 'ef63a697930c4b20a6b9791f423351da',\n",
       " 'last_annotation_token': '8bb63134d48840aaa2993f490855ff0d'}"
      ]
     },
     "execution_count": 24,
     "metadata": {},
     "output_type": "execute_result"
    }
   ],
   "source": [
    "nusc.get('instance', ann['instance_token'])"
   ]
  },
  {
   "cell_type": "code",
   "execution_count": 29,
   "metadata": {},
   "outputs": [
    {
     "data": {
      "text/plain": [
       "28114"
      ]
     },
     "execution_count": 29,
     "metadata": {},
     "output_type": "execute_result"
    }
   ],
   "source": [
    "int(ann['instance_token'][:4], 16)"
   ]
  },
  {
   "cell_type": "code",
   "execution_count": null,
   "metadata": {},
   "outputs": [],
   "source": []
  }
 ],
 "metadata": {
  "kernelspec": {
   "display_name": "Python 3 (ipykernel)",
   "language": "python",
   "name": "python3"
  },
  "language_info": {
   "codemirror_mode": {
    "name": "ipython",
    "version": 3
   },
   "file_extension": ".py",
   "mimetype": "text/x-python",
   "name": "python",
   "nbconvert_exporter": "python",
   "pygments_lexer": "ipython3",
   "version": "3.10.6"
  }
 },
 "nbformat": 4,
 "nbformat_minor": 2
}
